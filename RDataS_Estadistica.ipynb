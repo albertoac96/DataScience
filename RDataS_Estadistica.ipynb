{
  "nbformat": 4,
  "nbformat_minor": 0,
  "metadata": {
    "colab": {
      "provenance": [],
      "authorship_tag": "ABX9TyMox0kAP44Yh6yWR5FL6jkp",
      "include_colab_link": true
    },
    "kernelspec": {
      "name": "python3",
      "display_name": "Python 3"
    },
    "language_info": {
      "name": "python"
    }
  },
  "cells": [
    {
      "cell_type": "markdown",
      "metadata": {
        "id": "view-in-github",
        "colab_type": "text"
      },
      "source": [
        "<a href=\"https://colab.research.google.com/github/albertoac96/DataScience/blob/main/RDataS_Estadistica.ipynb\" target=\"_parent\"><img src=\"https://colab.research.google.com/assets/colab-badge.svg\" alt=\"Open In Colab\"/></a>"
      ]
    },
    {
      "cell_type": "markdown",
      "source": [
        "# **Ejercicios del capitulo 5 R for Data Science en** Python"
      ],
      "metadata": {
        "id": "QZkaPubG25Xv"
      }
    },
    {
      "cell_type": "code",
      "source": [
        "import pandas as pd"
      ],
      "metadata": {
        "id": "cqjBF-b7090H"
      },
      "execution_count": 10,
      "outputs": []
    },
    {
      "cell_type": "code",
      "source": [
        "base_url = \"https://github.com/byuidatascience/data4python4ds/raw/master/data-raw/\"\n",
        "flights = pd.read_csv(\"{}flights/flights.csv\".format(base_url))"
      ],
      "metadata": {
        "id": "Zi1Ep2Ju1VZJ"
      },
      "execution_count": 11,
      "outputs": []
    },
    {
      "cell_type": "markdown",
      "source": [
        "# ***5.2***\n",
        "\n"
      ],
      "metadata": {
        "id": "ZBLiDlHV2uGf"
      }
    },
    {
      "cell_type": "code",
      "source": [
        "print(\"A. Had an arrival delay of two or more hours\")\n",
        "arrival = flights.query('arr_delay >= 120')\n",
        "print(arrival)"
      ],
      "metadata": {
        "colab": {
          "base_uri": "https://localhost:8080/"
        },
        "id": "FcjB48lr1ZCZ",
        "outputId": "d0ac65cf-dede-4055-ee9d-748f6f14444c"
      },
      "execution_count": 12,
      "outputs": [
        {
          "output_type": "stream",
          "name": "stdout",
          "text": [
            "A. Had an arrival delay of two or more hours\n",
            "        year  month  day  dep_time  sched_dep_time  dep_delay  arr_time  \\\n",
            "119     2013      1    1     811.0             630      101.0    1047.0   \n",
            "151     2013      1    1     848.0            1835      853.0    1001.0   \n",
            "218     2013      1    1     957.0             733      144.0    1056.0   \n",
            "268     2013      1    1    1114.0             900      134.0    1447.0   \n",
            "447     2013      1    1    1505.0            1310      115.0    1638.0   \n",
            "...      ...    ...  ...       ...             ...        ...       ...   \n",
            "336579  2013      9   30    1823.0            1545      158.0    1934.0   \n",
            "336668  2013      9   30    1951.0            1649      182.0    2157.0   \n",
            "336724  2013      9   30    2053.0            1815      158.0    2310.0   \n",
            "336757  2013      9   30    2159.0            1845      194.0    2344.0   \n",
            "336763  2013      9   30    2235.0            2001      154.0      59.0   \n",
            "\n",
            "        sched_arr_time  arr_delay carrier  flight tailnum origin dest  \\\n",
            "119                830      137.0      MQ    4576  N531MQ    LGA  CLT   \n",
            "151               1950      851.0      MQ    3944  N942MQ    JFK  BWI   \n",
            "218                853      123.0      UA     856  N534UA    EWR  BOS   \n",
            "268               1222      145.0      UA    1086  N76502    LGA  IAH   \n",
            "447               1431      127.0      EV    4497  N17984    EWR  RIC   \n",
            "...                ...        ...     ...     ...     ...    ...  ...   \n",
            "336579            1733      121.0      9E    3459  N916XJ    JFK  BNA   \n",
            "336668            1903      174.0      EV    4294  N13988    EWR  SAV   \n",
            "336724            2054      136.0      EV    5292  N600QX    EWR  ATL   \n",
            "336757            2030      194.0      9E    3320  N906XJ    JFK  BUF   \n",
            "336763            2249      130.0      B6    1083  N804JB    JFK  MCO   \n",
            "\n",
            "        air_time  distance  hour  minute             time_hour  \n",
            "119        118.0       544     6      30  2013-01-01T11:00:00Z  \n",
            "151         41.0       184    18      35  2013-01-01T23:00:00Z  \n",
            "218         37.0       200     7      33  2013-01-01T12:00:00Z  \n",
            "268        248.0      1416     9       0  2013-01-01T14:00:00Z  \n",
            "447         63.0       277    13      10  2013-01-01T18:00:00Z  \n",
            "...          ...       ...   ...     ...                   ...  \n",
            "336579      95.0       765    15      45  2013-09-30T19:00:00Z  \n",
            "336668      95.0       708    16      49  2013-09-30T20:00:00Z  \n",
            "336724      91.0       746    18      15  2013-09-30T22:00:00Z  \n",
            "336757      50.0       301    18      45  2013-09-30T22:00:00Z  \n",
            "336763     123.0       944    20       1  2013-10-01T00:00:00Z  \n",
            "\n",
            "[10200 rows x 19 columns]\n"
          ]
        }
      ]
    },
    {
      "cell_type": "code",
      "source": [
        "print(\"B. Flew to Houston (IAH or HOU)\")\n",
        "flew = flights.query('dest in [\"IAH\", \"HOU\"]')\n",
        "print(flew)"
      ],
      "metadata": {
        "colab": {
          "base_uri": "https://localhost:8080/"
        },
        "id": "g54383HP2a26",
        "outputId": "b2814370-fa1e-4c2a-cf81-a734c95e02bb"
      },
      "execution_count": 13,
      "outputs": [
        {
          "output_type": "stream",
          "name": "stdout",
          "text": [
            "B. Flew to Houston (IAH or HOU)\n",
            "        year  month  day  dep_time  sched_dep_time  dep_delay  arr_time  \\\n",
            "0       2013      1    1     517.0             515        2.0     830.0   \n",
            "1       2013      1    1     533.0             529        4.0     850.0   \n",
            "32      2013      1    1     623.0             627       -4.0     933.0   \n",
            "81      2013      1    1     728.0             732       -4.0    1041.0   \n",
            "89      2013      1    1     739.0             739        0.0    1104.0   \n",
            "...      ...    ...  ...       ...             ...        ...       ...   \n",
            "336524  2013      9   30    1729.0            1720        9.0    2001.0   \n",
            "336527  2013      9   30    1735.0            1715       20.0    2010.0   \n",
            "336618  2013      9   30    1859.0            1859        0.0    2134.0   \n",
            "336694  2013      9   30    2015.0            2015        0.0    2244.0   \n",
            "336737  2013      9   30    2105.0            2106       -1.0    2329.0   \n",
            "\n",
            "        sched_arr_time  arr_delay carrier  flight tailnum origin dest  \\\n",
            "0                  819       11.0      UA    1545  N14228    EWR  IAH   \n",
            "1                  830       20.0      UA    1714  N24211    LGA  IAH   \n",
            "32                 932        1.0      UA     496  N459UA    LGA  IAH   \n",
            "81                1038        3.0      UA     473  N488UA    LGA  IAH   \n",
            "89                1038       26.0      UA    1479  N37408    EWR  IAH   \n",
            "...                ...        ...     ...     ...     ...    ...  ...   \n",
            "336524            2010       -9.0      UA     652  N455UA    EWR  IAH   \n",
            "336527            2005        5.0      WN    2067  N296WN    EWR  HOU   \n",
            "336618            2159      -25.0      UA    1128  N14731    LGA  IAH   \n",
            "336694            2307      -23.0      UA    1545  N17730    EWR  IAH   \n",
            "336737            2354      -25.0      UA     475  N477UA    EWR  IAH   \n",
            "\n",
            "        air_time  distance  hour  minute             time_hour  \n",
            "0          227.0      1400     5      15  2013-01-01T10:00:00Z  \n",
            "1          227.0      1416     5      29  2013-01-01T10:00:00Z  \n",
            "32         229.0      1416     6      27  2013-01-01T11:00:00Z  \n",
            "81         238.0      1416     7      32  2013-01-01T12:00:00Z  \n",
            "89         249.0      1400     7      39  2013-01-01T12:00:00Z  \n",
            "...          ...       ...   ...     ...                   ...  \n",
            "336524     173.0      1400    17      20  2013-09-30T21:00:00Z  \n",
            "336527     188.0      1411    17      15  2013-09-30T21:00:00Z  \n",
            "336618     180.0      1416    18      59  2013-09-30T22:00:00Z  \n",
            "336694     174.0      1400    20      15  2013-10-01T00:00:00Z  \n",
            "336737     175.0      1400    21       6  2013-10-01T01:00:00Z  \n",
            "\n",
            "[9313 rows x 19 columns]\n"
          ]
        }
      ]
    },
    {
      "cell_type": "code",
      "source": [
        "print(\"C. Were operated by United UA, American AA, or Delta D\")\n",
        "operated = flights.query('carrier in [\"AA\", \"DL\",\"UA\"]')\n",
        "print(operated)"
      ],
      "metadata": {
        "colab": {
          "base_uri": "https://localhost:8080/"
        },
        "id": "trz0Up1E2bGh",
        "outputId": "0d9fa5ca-867b-4a1b-b4c4-004268e4de0a"
      },
      "execution_count": 14,
      "outputs": [
        {
          "output_type": "stream",
          "name": "stdout",
          "text": [
            "C. Were operated by United UA, American AA, or Delta D\n",
            "        year  month  day  dep_time  sched_dep_time  dep_delay  arr_time  \\\n",
            "0       2013      1    1     517.0             515        2.0     830.0   \n",
            "1       2013      1    1     533.0             529        4.0     850.0   \n",
            "2       2013      1    1     542.0             540        2.0     923.0   \n",
            "4       2013      1    1     554.0             600       -6.0     812.0   \n",
            "5       2013      1    1     554.0             558       -4.0     740.0   \n",
            "...      ...    ...  ...       ...             ...        ...       ...   \n",
            "336737  2013      9   30    2105.0            2106       -1.0    2329.0   \n",
            "336744  2013      9   30    2121.0            2100       21.0    2349.0   \n",
            "336751  2013      9   30    2140.0            2140        0.0      10.0   \n",
            "336755  2013      9   30    2149.0            2156       -7.0    2245.0   \n",
            "336762  2013      9   30    2233.0            2113       80.0     112.0   \n",
            "\n",
            "        sched_arr_time  arr_delay carrier  flight tailnum origin dest  \\\n",
            "0                  819       11.0      UA    1545  N14228    EWR  IAH   \n",
            "1                  830       20.0      UA    1714  N24211    LGA  IAH   \n",
            "2                  850       33.0      AA    1141  N619AA    JFK  MIA   \n",
            "4                  837      -25.0      DL     461  N668DN    LGA  ATL   \n",
            "5                  728       12.0      UA    1696  N39463    EWR  ORD   \n",
            "...                ...        ...     ...     ...     ...    ...  ...   \n",
            "336737            2354      -25.0      UA     475  N477UA    EWR  IAH   \n",
            "336744              14      -25.0      DL    2363  N193DN    JFK  LAX   \n",
            "336751              40      -30.0      AA     185  N335AA    JFK  LAX   \n",
            "336755            2308      -23.0      UA     523  N813UA    EWR  BOS   \n",
            "336762              30       42.0      UA     471  N578UA    EWR  SFO   \n",
            "\n",
            "        air_time  distance  hour  minute             time_hour  \n",
            "0          227.0      1400     5      15  2013-01-01T10:00:00Z  \n",
            "1          227.0      1416     5      29  2013-01-01T10:00:00Z  \n",
            "2          160.0      1089     5      40  2013-01-01T10:00:00Z  \n",
            "4          116.0       762     6       0  2013-01-01T11:00:00Z  \n",
            "5          150.0       719     5      58  2013-01-01T10:00:00Z  \n",
            "...          ...       ...   ...     ...                   ...  \n",
            "336737     175.0      1400    21       6  2013-10-01T01:00:00Z  \n",
            "336744     296.0      2475    21       0  2013-10-01T01:00:00Z  \n",
            "336751     298.0      2475    21      40  2013-10-01T01:00:00Z  \n",
            "336755      37.0       200    21      56  2013-10-01T01:00:00Z  \n",
            "336762     318.0      2565    21      13  2013-10-01T01:00:00Z  \n",
            "\n",
            "[139504 rows x 19 columns]\n"
          ]
        }
      ]
    },
    {
      "cell_type": "code",
      "source": [
        "print(\"D. Departed in summer (July, August, and September)\")\n",
        "summer = nov_dec = flights.query('month in [7, 8, 9]')\n",
        "print(summer)"
      ],
      "metadata": {
        "colab": {
          "base_uri": "https://localhost:8080/"
        },
        "id": "a0DJTOnK2bLL",
        "outputId": "4467da37-98a3-4ebe-e24e-5602f5b643da"
      },
      "execution_count": 15,
      "outputs": [
        {
          "output_type": "stream",
          "name": "stdout",
          "text": [
            "D. Departed in summer (July, August, and September)\n",
            "        year  month  day  dep_time  sched_dep_time  dep_delay  arr_time  \\\n",
            "250450  2013      7    1       1.0            2029      212.0     236.0   \n",
            "250451  2013      7    1       2.0            2359        3.0     344.0   \n",
            "250452  2013      7    1      29.0            2245      104.0     151.0   \n",
            "250453  2013      7    1      43.0            2130      193.0     322.0   \n",
            "250454  2013      7    1      44.0            2150      174.0     300.0   \n",
            "...      ...    ...  ...       ...             ...        ...       ...   \n",
            "336771  2013      9   30       NaN            1455        NaN       NaN   \n",
            "336772  2013      9   30       NaN            2200        NaN       NaN   \n",
            "336773  2013      9   30       NaN            1210        NaN       NaN   \n",
            "336774  2013      9   30       NaN            1159        NaN       NaN   \n",
            "336775  2013      9   30       NaN             840        NaN       NaN   \n",
            "\n",
            "        sched_arr_time  arr_delay carrier  flight tailnum origin dest  \\\n",
            "250450            2359      157.0      B6     915  N653JB    JFK  SFO   \n",
            "250451             344        0.0      B6    1503  N805JB    JFK  SJU   \n",
            "250452               1      110.0      B6     234  N348JB    JFK  BTV   \n",
            "250453              14      188.0      B6    1371  N794JB    LGA  FLL   \n",
            "250454             100      120.0      AA     185  N324AA    JFK  LAX   \n",
            "...                ...        ...     ...     ...     ...    ...  ...   \n",
            "336771            1634        NaN      9E    3393     NaN    JFK  DCA   \n",
            "336772            2312        NaN      9E    3525     NaN    LGA  SYR   \n",
            "336773            1330        NaN      MQ    3461  N535MQ    LGA  BNA   \n",
            "336774            1344        NaN      MQ    3572  N511MQ    LGA  CLE   \n",
            "336775            1020        NaN      MQ    3531  N839MQ    LGA  RDU   \n",
            "\n",
            "        air_time  distance  hour  minute             time_hour  \n",
            "250450     315.0      2586    20      29  2013-07-02T00:00:00Z  \n",
            "250451     200.0      1598    23      59  2013-07-02T03:00:00Z  \n",
            "250452      66.0       266    22      45  2013-07-02T02:00:00Z  \n",
            "250453     143.0      1076    21      30  2013-07-02T01:00:00Z  \n",
            "250454     297.0      2475    21      50  2013-07-02T01:00:00Z  \n",
            "...          ...       ...   ...     ...                   ...  \n",
            "336771       NaN       213    14      55  2013-09-30T18:00:00Z  \n",
            "336772       NaN       198    22       0  2013-10-01T02:00:00Z  \n",
            "336773       NaN       764    12      10  2013-09-30T16:00:00Z  \n",
            "336774       NaN       419    11      59  2013-09-30T15:00:00Z  \n",
            "336775       NaN       431     8      40  2013-09-30T12:00:00Z  \n",
            "\n",
            "[86326 rows x 19 columns]\n"
          ]
        }
      ]
    },
    {
      "cell_type": "code",
      "source": [
        "print(\"E. Arrived more than two hours late, but didn’t leave late\")\n",
        "late = flights.query('arr_delay > 120 & dep_delay <= 0')\n",
        "print(late)"
      ],
      "metadata": {
        "colab": {
          "base_uri": "https://localhost:8080/"
        },
        "id": "Bvp0oG_52bQF",
        "outputId": "2505b57d-faa0-4e5d-ede4-060f8cbe7508"
      },
      "execution_count": 16,
      "outputs": [
        {
          "output_type": "stream",
          "name": "stdout",
          "text": [
            "E. Arrived more than two hours late, but didn’t leave late\n",
            "        year  month  day  dep_time  sched_dep_time  dep_delay  arr_time  \\\n",
            "22911   2013      1   27    1419.0            1420       -1.0    1754.0   \n",
            "33011   2013     10    7    1350.0            1350        0.0    1736.0   \n",
            "33019   2013     10    7    1357.0            1359       -2.0    1858.0   \n",
            "41075   2013     10   16     657.0             700       -3.0    1258.0   \n",
            "55985   2013     11    1     658.0             700       -2.0    1329.0   \n",
            "152766  2013      3   18    1844.0            1847       -3.0      39.0   \n",
            "180893  2013      4   17    1635.0            1640       -5.0    2049.0   \n",
            "181270  2013      4   18     558.0             600       -2.0    1149.0   \n",
            "181327  2013      4   18     655.0             700       -5.0    1213.0   \n",
            "213693  2013      5   22    1827.0            1830       -3.0    2217.0   \n",
            "214512  2013      5   23    1810.0            1810        0.0    2208.0   \n",
            "226434  2013      6    5    1604.0            1615      -11.0    2041.0   \n",
            "235033  2013      6   14    1708.0            1710       -2.0    2227.0   \n",
            "244329  2013      6   24    1602.0            1605       -3.0    2134.0   \n",
            "247568  2013      6   27    2052.0            2100       -8.0      13.0   \n",
            "249957  2013      6   30    1423.0            1425       -2.0    1816.0   \n",
            "250689  2013      7    1     905.0             905        0.0    1443.0   \n",
            "256340  2013      7    7    1659.0            1700       -1.0    2050.0   \n",
            "256358  2013      7    7    1727.0            1730       -3.0    2203.0   \n",
            "256373  2013      7    7    1746.0            1755       -9.0    2133.0   \n",
            "256405  2013      7    7    1823.0            1830       -7.0    2201.0   \n",
            "270742  2013      7   22    1555.0            1600       -5.0    2139.0   \n",
            "270752  2013      7   22    1606.0            1615       -9.0    2056.0   \n",
            "270762  2013      7   22    1628.0            1630       -2.0    2151.0   \n",
            "276564  2013      7   28    1710.0            1711       -1.0    2248.0   \n",
            "287148  2013      8    8    1457.0            1500       -3.0    1828.0   \n",
            "291439  2013      8   13     657.0             659       -2.0    1015.0   \n",
            "305985  2013      8   28    1157.0            1200       -3.0    1520.0   \n",
            "325764  2013      9   19     656.0             700       -4.0    1037.0   \n",
            "\n",
            "        sched_arr_time  arr_delay carrier  flight tailnum origin dest  \\\n",
            "22911             1550      124.0      MQ    3728  N1EAMQ    EWR  ORD   \n",
            "33011             1526      130.0      EV    5181  N611QX    LGA  MSN   \n",
            "33019             1654      124.0      AA    1151  N3CMAA    LGA  DFW   \n",
            "41075             1056      122.0      B6       3  N703JB    JFK  SJU   \n",
            "55985             1015      194.0      VX     399  N629VA    JFK  LAX   \n",
            "152766            2219      140.0      UA     389  N560UA    JFK  SFO   \n",
            "180893            1845      124.0      MQ    4540  N721MQ    LGA  DTW   \n",
            "181270             850      179.0      AA     707  N3EXAA    LGA  DFW   \n",
            "181327             950      143.0      AA    2083  N565AA    EWR  DFW   \n",
            "213693            2010      127.0      MQ    4674  N518MQ    LGA  CLE   \n",
            "214512            2000      128.0      MQ    4626  N525MQ    LGA  CMH   \n",
            "226434            1840      121.0      MQ    4657  N510MQ    LGA  ATL   \n",
            "235033            2015      132.0      AA     181  N320AA    JFK  LAX   \n",
            "244329            1916      138.0      DL     706   N3768    JFK  AUS   \n",
            "247568            2210      123.0      US    2144  N952UW    LGA  BOS   \n",
            "249957            1554      142.0      B6    2402  N206JB    JFK  BUF   \n",
            "250689            1223      140.0      DL    1057  N337NB    LGA  MIA   \n",
            "256340            1823      147.0      US    2183  N948UW    LGA  DCA   \n",
            "256358            1951      132.0      F9     837  N263AV    LGA  DEN   \n",
            "256373            1921      132.0      B6    1407  N374JB    JFK  IAD   \n",
            "256405            1955      126.0      MQ    3486  N724MQ    LGA  BNA   \n",
            "270742            1938      121.0      DL     141  N713TW    JFK  SFO   \n",
            "270752            1831      145.0      DL    1619  N970DL    LGA  MSP   \n",
            "270762            1939      132.0      B6     423  N625JB    JFK  LAX   \n",
            "276564            2039      129.0      B6     167  N510JB    JFK  OAK   \n",
            "287148            1624      124.0      US    2185  N746UW    LGA  DCA   \n",
            "291439             814      121.0      EV    4522  N14188    EWR  BNA   \n",
            "305985            1316      124.0      US    2179  N737US    LGA  DCA   \n",
            "325764             833      124.0      UA     331  N808UA    LGA  ORD   \n",
            "\n",
            "        air_time  distance  hour  minute             time_hour  \n",
            "22911      135.0       719    14      20  2013-01-27T19:00:00Z  \n",
            "33011      117.0       812    13      50  2013-10-07T17:00:00Z  \n",
            "33019      192.0      1389    13      59  2013-10-07T17:00:00Z  \n",
            "41075      225.0      1598     7       0  2013-10-16T11:00:00Z  \n",
            "55985      336.0      2475     7       0  2013-11-01T11:00:00Z  \n",
            "152766     386.0      2586    18      47  2013-03-18T22:00:00Z  \n",
            "180893     130.0       502    16      40  2013-04-17T20:00:00Z  \n",
            "181270     234.0      1389     6       0  2013-04-18T10:00:00Z  \n",
            "181327     230.0      1372     7       0  2013-04-18T11:00:00Z  \n",
            "213693      90.0       419    18      30  2013-05-22T22:00:00Z  \n",
            "214512      82.0       479    18      10  2013-05-23T22:00:00Z  \n",
            "226434     158.0       762    16      15  2013-06-05T20:00:00Z  \n",
            "235033     334.0      2475    17      10  2013-06-14T21:00:00Z  \n",
            "244329     247.0      1521    16       5  2013-06-24T20:00:00Z  \n",
            "247568      46.0       184    21       0  2013-06-28T01:00:00Z  \n",
            "249957      80.0       301    14      25  2013-06-30T18:00:00Z  \n",
            "250689     183.0      1096     9       5  2013-07-01T13:00:00Z  \n",
            "256340      64.0       214    17       0  2013-07-07T21:00:00Z  \n",
            "256358     236.0      1620    17      30  2013-07-07T21:00:00Z  \n",
            "256373      78.0       228    17      55  2013-07-07T21:00:00Z  \n",
            "256405     113.0       764    18      30  2013-07-07T22:00:00Z  \n",
            "270742     371.0      2586    16       0  2013-07-22T20:00:00Z  \n",
            "270752     140.0      1020    16      15  2013-07-22T20:00:00Z  \n",
            "270762     332.0      2475    16      30  2013-07-22T20:00:00Z  \n",
            "276564     353.0      2576    17      11  2013-07-28T21:00:00Z  \n",
            "287148      70.0       214    15       0  2013-08-08T19:00:00Z  \n",
            "291439     146.0       748     6      59  2013-08-13T10:00:00Z  \n",
            "305985      63.0       214    12       0  2013-08-28T16:00:00Z  \n",
            "325764     192.0       733     7       0  2013-09-19T11:00:00Z  \n"
          ]
        }
      ]
    },
    {
      "cell_type": "code",
      "source": [
        "print(\"F. Were delayed by at least an hour, but made up over 30 minutes in flight\")\n",
        "hours = flights.query('dep_delay >= 60 & dep_delay - arr_delay > 30')\n",
        "print(hours)"
      ],
      "metadata": {
        "colab": {
          "base_uri": "https://localhost:8080/"
        },
        "id": "IMq8K1yc2ig2",
        "outputId": "7510932b-5cd8-4deb-99e8-8d9429a5e505"
      },
      "execution_count": 17,
      "outputs": [
        {
          "output_type": "stream",
          "name": "stdout",
          "text": [
            "F. Were delayed by at least an hour, but made up over 30 minutes in flight\n",
            "        year  month  day  dep_time  sched_dep_time  dep_delay  arr_time  \\\n",
            "815     2013      1    1    2205.0            1720      285.0      46.0   \n",
            "832     2013      1    1    2326.0            2130      116.0     131.0   \n",
            "2286    2013      1    3    1503.0            1221      162.0    1803.0   \n",
            "2508    2013      1    3    1839.0            1700       99.0    2056.0   \n",
            "2522    2013      1    3    1850.0            1745       65.0    2148.0   \n",
            "...      ...    ...  ...       ...             ...        ...       ...   \n",
            "336572  2013      9   30    1818.0            1715       63.0    2001.0   \n",
            "336579  2013      9   30    1823.0            1545      158.0    1934.0   \n",
            "336674  2013      9   30    1956.0            1825       91.0    2208.0   \n",
            "336704  2013      9   30    2028.0            1910       78.0    2255.0   \n",
            "336762  2013      9   30    2233.0            2113       80.0     112.0   \n",
            "\n",
            "        sched_arr_time  arr_delay carrier  flight tailnum origin dest  \\\n",
            "815               2040      246.0      AA    1999  N5DNAA    EWR  MIA   \n",
            "832                 18       73.0      B6     199  N594JB    JFK  LAS   \n",
            "2286              1555      128.0      UA     551  N835UA    EWR  SFO   \n",
            "2508              1950       66.0      AA     575  N631AA    JFK  EGE   \n",
            "2522              2120       28.0      AA     177  N332AA    JFK  SFO   \n",
            "...                ...        ...     ...     ...     ...    ...  ...   \n",
            "336572            1940       21.0      9E    3310  N934XJ    JFK  MCI   \n",
            "336579            1733      121.0      9E    3459  N916XJ    JFK  BNA   \n",
            "336674            2121       47.0      DL    1576  N3772H    JFK  SAN   \n",
            "336704            2215       40.0      AA      21  N338AA    JFK  LAX   \n",
            "336762              30       42.0      UA     471  N578UA    EWR  SFO   \n",
            "\n",
            "        air_time  distance  hour  minute             time_hour  \n",
            "815        146.0      1085    17      20  2013-01-01T22:00:00Z  \n",
            "832        290.0      2248    21      30  2013-01-02T02:00:00Z  \n",
            "2286       320.0      2565    12      21  2013-01-03T17:00:00Z  \n",
            "2508       239.0      1747    17       0  2013-01-03T22:00:00Z  \n",
            "2522       314.0      2586    17      45  2013-01-03T22:00:00Z  \n",
            "...          ...       ...   ...     ...                   ...  \n",
            "336572     142.0      1113    17      15  2013-09-30T21:00:00Z  \n",
            "336579      95.0       765    15      45  2013-09-30T19:00:00Z  \n",
            "336674     292.0      2446    18      25  2013-09-30T22:00:00Z  \n",
            "336704     294.0      2475    19      10  2013-09-30T23:00:00Z  \n",
            "336762     318.0      2565    21      13  2013-10-01T01:00:00Z  \n",
            "\n",
            "[1844 rows x 19 columns]\n"
          ]
        }
      ]
    },
    {
      "cell_type": "code",
      "source": [
        "print(\"G. Departed between midnight and 6am (inclusive)\")\n",
        "g = flights.query('dep_time <= 600 | dep_time == 2400')\n",
        "print(g)"
      ],
      "metadata": {
        "colab": {
          "base_uri": "https://localhost:8080/"
        },
        "id": "Yr5A-d2-2imE",
        "outputId": "1b275faf-9c5c-4021-e45c-8c46219620ee"
      },
      "execution_count": 18,
      "outputs": [
        {
          "output_type": "stream",
          "name": "stdout",
          "text": [
            "G. Departed between midnight and 6am (inclusive)\n",
            "        year  month  day  dep_time  sched_dep_time  dep_delay  arr_time  \\\n",
            "0       2013      1    1     517.0             515        2.0     830.0   \n",
            "1       2013      1    1     533.0             529        4.0     850.0   \n",
            "2       2013      1    1     542.0             540        2.0     923.0   \n",
            "3       2013      1    1     544.0             545       -1.0    1004.0   \n",
            "4       2013      1    1     554.0             600       -6.0     812.0   \n",
            "...      ...    ...  ...       ...             ...        ...       ...   \n",
            "335802  2013      9   30     557.0             600       -3.0     852.0   \n",
            "335803  2013      9   30     558.0             600       -2.0     815.0   \n",
            "335804  2013      9   30     558.0             600       -2.0     742.0   \n",
            "335805  2013      9   30     559.0             600       -1.0       NaN   \n",
            "335806  2013      9   30     600.0             600        0.0     844.0   \n",
            "\n",
            "        sched_arr_time  arr_delay carrier  flight tailnum origin dest  \\\n",
            "0                  819       11.0      UA    1545  N14228    EWR  IAH   \n",
            "1                  830       20.0      UA    1714  N24211    LGA  IAH   \n",
            "2                  850       33.0      AA    1141  N619AA    JFK  MIA   \n",
            "3                 1022      -18.0      B6     725  N804JB    JFK  BQN   \n",
            "4                  837      -25.0      DL     461  N668DN    LGA  ATL   \n",
            "...                ...        ...     ...     ...     ...    ...  ...   \n",
            "335802             923      -31.0      UA     303  N510UA    JFK  SFO   \n",
            "335803             829      -14.0      EV    4137  N16981    EWR  ATL   \n",
            "335804             749       -7.0      DL     731  N337NB    LGA  DTW   \n",
            "335805             715        NaN      WN     464  N411WN    EWR  MDW   \n",
            "335806             856      -12.0      B6     601  N588JB    JFK  FLL   \n",
            "\n",
            "        air_time  distance  hour  minute             time_hour  \n",
            "0          227.0      1400     5      15  2013-01-01T10:00:00Z  \n",
            "1          227.0      1416     5      29  2013-01-01T10:00:00Z  \n",
            "2          160.0      1089     5      40  2013-01-01T10:00:00Z  \n",
            "3          183.0      1576     5      45  2013-01-01T10:00:00Z  \n",
            "4          116.0       762     6       0  2013-01-01T11:00:00Z  \n",
            "...          ...       ...   ...     ...                   ...  \n",
            "335802     326.0      2586     6       0  2013-09-30T10:00:00Z  \n",
            "335803     107.0       746     6       0  2013-09-30T10:00:00Z  \n",
            "335804      83.0       502     6       0  2013-09-30T10:00:00Z  \n",
            "335805       NaN       711     6       0  2013-09-30T10:00:00Z  \n",
            "335806     139.0      1069     6       0  2013-09-30T10:00:00Z  \n",
            "\n",
            "[9373 rows x 19 columns]\n"
          ]
        }
      ]
    },
    {
      "cell_type": "markdown",
      "source": [
        "# **5.3**"
      ],
      "metadata": {
        "id": "UFSQNedN3kcq"
      }
    },
    {
      "cell_type": "code",
      "source": [
        "#5.3.1\n",
        "#How could you use arrange() to sort all missing values to the start? (Hint: use is.na()).\n",
        "print(\"How could you use sort() to sort all missing values to the start? (Hint: use isna()).\")\n",
        "a = flights.sort_values(by=['dep_time'], na_position='first')\n",
        "print(a)"
      ],
      "metadata": {
        "colab": {
          "base_uri": "https://localhost:8080/"
        },
        "id": "YAaWQTPw3nQ9",
        "outputId": "a47ebae5-c6cd-4ab4-9f6c-10146203ce10"
      },
      "execution_count": 19,
      "outputs": [
        {
          "output_type": "stream",
          "name": "stdout",
          "text": [
            "How could you use sort() to sort all missing values to the start? (Hint: use isna()).\n",
            "        year  month  day  dep_time  sched_dep_time  dep_delay  arr_time  \\\n",
            "838     2013      1    1       NaN            1630        NaN       NaN   \n",
            "839     2013      1    1       NaN            1935        NaN       NaN   \n",
            "840     2013      1    1       NaN            1500        NaN       NaN   \n",
            "841     2013      1    1       NaN             600        NaN       NaN   \n",
            "1777    2013      1    2       NaN            1540        NaN       NaN   \n",
            "...      ...    ...  ...       ...             ...        ...       ...   \n",
            "169005  2013      4    4    2400.0            2355        5.0     347.0   \n",
            "54966   2013     10   30    2400.0            2359        1.0     327.0   \n",
            "87893   2013     12    5    2400.0            2359        1.0     427.0   \n",
            "159422  2013      3   25    2400.0            2355        5.0     339.0   \n",
            "100795  2013     12   19    2400.0            2359        1.0     434.0   \n",
            "\n",
            "        sched_arr_time  arr_delay carrier  flight tailnum origin dest  \\\n",
            "838               1815        NaN      EV    4308  N18120    EWR  RDU   \n",
            "839               2240        NaN      AA     791  N3EHAA    LGA  DFW   \n",
            "840               1825        NaN      AA    1925  N3EVAA    LGA  MIA   \n",
            "841                901        NaN      B6     125  N618JB    JFK  FLL   \n",
            "1777              1747        NaN      EV    4352  N10575    EWR  CVG   \n",
            "...                ...        ...     ...     ...     ...    ...  ...   \n",
            "169005             345        2.0      B6     739  N508JB    JFK  PSE   \n",
            "54966              337      -10.0      B6     839  N661JB    JFK  BQN   \n",
            "87893              440      -13.0      B6    1503  N587JB    JFK  SJU   \n",
            "159422             340       -1.0      B6     739  N612JB    JFK  PSE   \n",
            "100795             440       -6.0      B6    1503  N561JB    JFK  SJU   \n",
            "\n",
            "        air_time  distance  hour  minute             time_hour  \n",
            "838          NaN       416    16      30  2013-01-01T21:00:00Z  \n",
            "839          NaN      1389    19      35  2013-01-02T00:00:00Z  \n",
            "840          NaN      1096    15       0  2013-01-01T20:00:00Z  \n",
            "841          NaN      1069     6       0  2013-01-01T11:00:00Z  \n",
            "1777         NaN       569    15      40  2013-01-02T20:00:00Z  \n",
            "...          ...       ...   ...     ...                   ...  \n",
            "169005     199.0      1617    23      55  2013-04-05T03:00:00Z  \n",
            "54966      182.0      1576    23      59  2013-10-31T03:00:00Z  \n",
            "87893      182.0      1598    23      59  2013-12-06T04:00:00Z  \n",
            "159422     200.0      1617    23      55  2013-03-26T03:00:00Z  \n",
            "100795     193.0      1598    23      59  2013-12-20T04:00:00Z  \n",
            "\n",
            "[336776 rows x 19 columns]\n"
          ]
        }
      ]
    },
    {
      "cell_type": "code",
      "source": [
        "print(\"Sort flights to find the most delayed flights. Find the flights that left earliest.\")\n",
        "b = flights.sort_values(by=['dep_delay'], ascending=False)\n",
        "print(b)"
      ],
      "metadata": {
        "colab": {
          "base_uri": "https://localhost:8080/"
        },
        "id": "Hqe_8lx43xV7",
        "outputId": "381eacf9-127b-4a7b-80e5-77b60a5ddcae"
      },
      "execution_count": 20,
      "outputs": [
        {
          "output_type": "stream",
          "name": "stdout",
          "text": [
            "Sort flights to find the most delayed flights. Find the flights that left earliest.\n",
            "        year  month  day  dep_time  sched_dep_time  dep_delay  arr_time  \\\n",
            "7072    2013      1    9     641.0             900     1301.0    1242.0   \n",
            "235778  2013      6   15    1432.0            1935     1137.0    1607.0   \n",
            "8239    2013      1   10    1121.0            1635     1126.0    1239.0   \n",
            "327043  2013      9   20    1139.0            1845     1014.0    1457.0   \n",
            "270376  2013      7   22     845.0            1600     1005.0    1044.0   \n",
            "...      ...    ...  ...       ...             ...        ...       ...   \n",
            "336771  2013      9   30       NaN            1455        NaN       NaN   \n",
            "336772  2013      9   30       NaN            2200        NaN       NaN   \n",
            "336773  2013      9   30       NaN            1210        NaN       NaN   \n",
            "336774  2013      9   30       NaN            1159        NaN       NaN   \n",
            "336775  2013      9   30       NaN             840        NaN       NaN   \n",
            "\n",
            "        sched_arr_time  arr_delay carrier  flight tailnum origin dest  \\\n",
            "7072              1530     1272.0      HA      51  N384HA    JFK  HNL   \n",
            "235778            2120     1127.0      MQ    3535  N504MQ    JFK  CMH   \n",
            "8239              1810     1109.0      MQ    3695  N517MQ    EWR  ORD   \n",
            "327043            2210     1007.0      AA     177  N338AA    JFK  SFO   \n",
            "270376            1815      989.0      MQ    3075  N665MQ    JFK  CVG   \n",
            "...                ...        ...     ...     ...     ...    ...  ...   \n",
            "336771            1634        NaN      9E    3393     NaN    JFK  DCA   \n",
            "336772            2312        NaN      9E    3525     NaN    LGA  SYR   \n",
            "336773            1330        NaN      MQ    3461  N535MQ    LGA  BNA   \n",
            "336774            1344        NaN      MQ    3572  N511MQ    LGA  CLE   \n",
            "336775            1020        NaN      MQ    3531  N839MQ    LGA  RDU   \n",
            "\n",
            "        air_time  distance  hour  minute             time_hour  \n",
            "7072       640.0      4983     9       0  2013-01-09T14:00:00Z  \n",
            "235778      74.0       483    19      35  2013-06-15T23:00:00Z  \n",
            "8239       111.0       719    16      35  2013-01-10T21:00:00Z  \n",
            "327043     354.0      2586    18      45  2013-09-20T22:00:00Z  \n",
            "270376      96.0       589    16       0  2013-07-22T20:00:00Z  \n",
            "...          ...       ...   ...     ...                   ...  \n",
            "336771       NaN       213    14      55  2013-09-30T18:00:00Z  \n",
            "336772       NaN       198    22       0  2013-10-01T02:00:00Z  \n",
            "336773       NaN       764    12      10  2013-09-30T16:00:00Z  \n",
            "336774       NaN       419    11      59  2013-09-30T15:00:00Z  \n",
            "336775       NaN       431     8      40  2013-09-30T12:00:00Z  \n",
            "\n",
            "[336776 rows x 19 columns]\n"
          ]
        }
      ]
    },
    {
      "cell_type": "code",
      "source": [
        "b2 = flights.sort_values(by=['dep_delay'], ascending=True)\n",
        "print(b2)"
      ],
      "metadata": {
        "colab": {
          "base_uri": "https://localhost:8080/"
        },
        "id": "t-iZH5CD3-1j",
        "outputId": "af2cabe8-c6fb-41a0-c310-87eb9b5ff6af"
      },
      "execution_count": 21,
      "outputs": [
        {
          "output_type": "stream",
          "name": "stdout",
          "text": [
            "        year  month  day  dep_time  sched_dep_time  dep_delay  arr_time  \\\n",
            "89673   2013     12    7    2040.0            2123      -43.0      40.0   \n",
            "113633  2013      2    3    2022.0            2055      -33.0    2240.0   \n",
            "64501   2013     11   10    1408.0            1440      -32.0    1549.0   \n",
            "9619    2013      1   11    1900.0            1930      -30.0    2233.0   \n",
            "24915   2013      1   29    1703.0            1730      -27.0    1947.0   \n",
            "...      ...    ...  ...       ...             ...        ...       ...   \n",
            "336771  2013      9   30       NaN            1455        NaN       NaN   \n",
            "336772  2013      9   30       NaN            2200        NaN       NaN   \n",
            "336773  2013      9   30       NaN            1210        NaN       NaN   \n",
            "336774  2013      9   30       NaN            1159        NaN       NaN   \n",
            "336775  2013      9   30       NaN             840        NaN       NaN   \n",
            "\n",
            "        sched_arr_time  arr_delay carrier  flight tailnum origin dest  \\\n",
            "89673             2352       48.0      B6      97  N592JB    JFK  DEN   \n",
            "113633            2338      -58.0      DL    1715  N612DL    LGA  MSY   \n",
            "64501             1559      -10.0      EV    5713  N825AS    LGA  IAD   \n",
            "9619              2243      -10.0      DL    1435  N934DL    LGA  TPA   \n",
            "24915             1957      -10.0      F9     837  N208FR    LGA  DEN   \n",
            "...                ...        ...     ...     ...     ...    ...  ...   \n",
            "336771            1634        NaN      9E    3393     NaN    JFK  DCA   \n",
            "336772            2312        NaN      9E    3525     NaN    LGA  SYR   \n",
            "336773            1330        NaN      MQ    3461  N535MQ    LGA  BNA   \n",
            "336774            1344        NaN      MQ    3572  N511MQ    LGA  CLE   \n",
            "336775            1020        NaN      MQ    3531  N839MQ    LGA  RDU   \n",
            "\n",
            "        air_time  distance  hour  minute             time_hour  \n",
            "89673      265.0      1626    21      23  2013-12-08T02:00:00Z  \n",
            "113633     162.0      1183    20      55  2013-02-04T01:00:00Z  \n",
            "64501       52.0       229    14      40  2013-11-10T19:00:00Z  \n",
            "9619       139.0      1010    19      30  2013-01-12T00:00:00Z  \n",
            "24915      250.0      1620    17      30  2013-01-29T22:00:00Z  \n",
            "...          ...       ...   ...     ...                   ...  \n",
            "336771       NaN       213    14      55  2013-09-30T18:00:00Z  \n",
            "336772       NaN       198    22       0  2013-10-01T02:00:00Z  \n",
            "336773       NaN       764    12      10  2013-09-30T16:00:00Z  \n",
            "336774       NaN       419    11      59  2013-09-30T15:00:00Z  \n",
            "336775       NaN       431     8      40  2013-09-30T12:00:00Z  \n",
            "\n",
            "[336776 rows x 19 columns]\n"
          ]
        }
      ]
    },
    {
      "cell_type": "code",
      "source": [
        "print(\"Sort flights to find the fastest (highest speed) flights.\")\n",
        "c = flights.sort_values(by=['air_time'], ascending=True)\n",
        "#Another definition of the “fastest flight” is the flight with the highest average ground speed.\n",
        "#The ground speed is not included in the data, but it can be calculated from the distance and air_time of the flight.\n",
        "print(c)"
      ],
      "metadata": {
        "colab": {
          "base_uri": "https://localhost:8080/"
        },
        "id": "hNd9Nm554GX8",
        "outputId": "82c1c87f-4005-4c1a-eb97-b016e51e49d4"
      },
      "execution_count": 22,
      "outputs": [
        {
          "output_type": "stream",
          "name": "stdout",
          "text": [
            "Sort flights to find the fastest (highest speed) flights.\n",
            "        year  month  day  dep_time  sched_dep_time  dep_delay  arr_time  \\\n",
            "176604  2013      4   13     537.0             527       10.0     622.0   \n",
            "13524   2013      1   16    1355.0            1315       40.0    1442.0   \n",
            "296418  2013      8   18    1129.0            1138       -9.0    1206.0   \n",
            "113682  2013      2    3    2153.0            2129       24.0    2247.0   \n",
            "121615  2013      2   12    2123.0            2130       -7.0    2211.0   \n",
            "...      ...    ...  ...       ...             ...        ...       ...   \n",
            "336771  2013      9   30       NaN            1455        NaN       NaN   \n",
            "336772  2013      9   30       NaN            2200        NaN       NaN   \n",
            "336773  2013      9   30       NaN            1210        NaN       NaN   \n",
            "336774  2013      9   30       NaN            1159        NaN       NaN   \n",
            "336775  2013      9   30       NaN             840        NaN       NaN   \n",
            "\n",
            "        sched_arr_time  arr_delay carrier  flight tailnum origin dest  \\\n",
            "176604             628       -6.0      EV    4631  N12167    EWR  BDL   \n",
            "13524             1411       31.0      EV    4368  N16911    EWR  BDL   \n",
            "296418            1234      -28.0      EV    4577  N18101    EWR  BDL   \n",
            "113682            2224       23.0      EV    4619  N13913    EWR  PHL   \n",
            "121615            2225      -14.0      EV    4619  N12921    EWR  PHL   \n",
            "...                ...        ...     ...     ...     ...    ...  ...   \n",
            "336771            1634        NaN      9E    3393     NaN    JFK  DCA   \n",
            "336772            2312        NaN      9E    3525     NaN    LGA  SYR   \n",
            "336773            1330        NaN      MQ    3461  N535MQ    LGA  BNA   \n",
            "336774            1344        NaN      MQ    3572  N511MQ    LGA  CLE   \n",
            "336775            1020        NaN      MQ    3531  N839MQ    LGA  RDU   \n",
            "\n",
            "        air_time  distance  hour  minute             time_hour  \n",
            "176604      20.0       116     5      27  2013-04-13T09:00:00Z  \n",
            "13524       20.0       116    13      15  2013-01-16T18:00:00Z  \n",
            "296418      21.0       116    11      38  2013-08-18T15:00:00Z  \n",
            "113682      21.0        80    21      29  2013-02-04T02:00:00Z  \n",
            "121615      21.0        80    21      30  2013-02-13T02:00:00Z  \n",
            "...          ...       ...   ...     ...                   ...  \n",
            "336771       NaN       213    14      55  2013-09-30T18:00:00Z  \n",
            "336772       NaN       198    22       0  2013-10-01T02:00:00Z  \n",
            "336773       NaN       764    12      10  2013-09-30T16:00:00Z  \n",
            "336774       NaN       419    11      59  2013-09-30T15:00:00Z  \n",
            "336775       NaN       431     8      40  2013-09-30T12:00:00Z  \n",
            "\n",
            "[336776 rows x 19 columns]\n"
          ]
        }
      ]
    },
    {
      "cell_type": "code",
      "source": [
        "print(\"Which flights travelled the farthest? Which travelled the shortest?\")\n",
        "d = flights.sort_values(by=['distance'], ascending=False)\n",
        "print(d)"
      ],
      "metadata": {
        "colab": {
          "base_uri": "https://localhost:8080/"
        },
        "id": "HVVS5c324MKu",
        "outputId": "b40835fa-d6cd-465e-e400-821388388174"
      },
      "execution_count": 23,
      "outputs": [
        {
          "output_type": "stream",
          "name": "stdout",
          "text": [
            "Which flights travelled the farthest? Which travelled the shortest?\n",
            "        year  month  day  dep_time  sched_dep_time  dep_delay  arr_time  \\\n",
            "50676   2013     10   26    1004.0            1000        4.0    1435.0   \n",
            "108078  2013     12   28     933.0             930        3.0    1520.0   \n",
            "100067  2013     12   19     924.0             930       -6.0    1450.0   \n",
            "179566  2013      4   16     953.0            1000       -7.0    1443.0   \n",
            "30229   2013     10    4     954.0            1000       -6.0    1438.0   \n",
            "...      ...    ...  ...       ...             ...        ...       ...   \n",
            "6972    2013      1    8    2127.0            2130       -3.0    2304.0   \n",
            "26874   2013      1   31    2129.0            2129        0.0    2234.0   \n",
            "164109  2013      3   30    1942.0            1950       -8.0    2026.0   \n",
            "22334   2013      1   26    1621.0            1617        4.0    1705.0   \n",
            "275945  2013      7   27       NaN             106        NaN       NaN   \n",
            "\n",
            "        sched_arr_time  arr_delay carrier  flight tailnum origin dest  \\\n",
            "50676             1450      -15.0      HA      51  N386HA    JFK  HNL   \n",
            "108078            1535      -15.0      HA      51  N384HA    JFK  HNL   \n",
            "100067            1535      -45.0      HA      51  N386HA    JFK  HNL   \n",
            "179566            1510      -27.0      HA      51  N381HA    JFK  HNL   \n",
            "30229             1450      -12.0      HA      51  N380HA    JFK  HNL   \n",
            "...                ...        ...     ...     ...     ...    ...  ...   \n",
            "6972              2225       39.0      EV    4619  N11194    EWR  PHL   \n",
            "26874             2224       10.0      EV    3271  N13553    EWR  PHL   \n",
            "164109            2044      -18.0      EV    4457  N12569    EWR  PHL   \n",
            "22334             1722      -17.0      EV    4616  N14153    EWR  PHL   \n",
            "275945             245        NaN      US    1632     NaN    EWR  LGA   \n",
            "\n",
            "        air_time  distance  hour  minute             time_hour  \n",
            "50676      608.0      4983    10       0  2013-10-26T14:00:00Z  \n",
            "108078     633.0      4983     9      30  2013-12-28T14:00:00Z  \n",
            "100067     609.0      4983     9      30  2013-12-19T14:00:00Z  \n",
            "179566     631.0      4983    10       0  2013-04-16T14:00:00Z  \n",
            "30229      618.0      4983    10       0  2013-10-04T14:00:00Z  \n",
            "...          ...       ...   ...     ...                   ...  \n",
            "6972        30.0        80    21      30  2013-01-09T02:00:00Z  \n",
            "26874       28.0        80    21      29  2013-02-01T02:00:00Z  \n",
            "164109      24.0        80    19      50  2013-03-30T23:00:00Z  \n",
            "22334       27.0        80    16      17  2013-01-26T21:00:00Z  \n",
            "275945       NaN        17     1       6  2013-07-27T05:00:00Z  \n",
            "\n",
            "[336776 rows x 19 columns]\n"
          ]
        }
      ]
    },
    {
      "cell_type": "code",
      "source": [
        "d2 = flights.sort_values(by=['distance'], ascending=True)\n",
        "print(d2)"
      ],
      "metadata": {
        "colab": {
          "base_uri": "https://localhost:8080/"
        },
        "id": "OWPXev2g4YAq",
        "outputId": "2eb6d606-3975-4e25-9a02-a1047fd1e73e"
      },
      "execution_count": 24,
      "outputs": [
        {
          "output_type": "stream",
          "name": "stdout",
          "text": [
            "        year  month  day  dep_time  sched_dep_time  dep_delay  arr_time  \\\n",
            "275945  2013      7   27       NaN             106        NaN       NaN   \n",
            "3083    2013      1    4    1240.0            1200       40.0    1333.0   \n",
            "16328   2013      1   19    1617.0            1617        0.0    1722.0   \n",
            "112178  2013      2    1    2128.0            2129       -1.0    2216.0   \n",
            "19983   2013      1   23    2128.0            2129       -1.0    2221.0   \n",
            "...      ...    ...  ...       ...             ...        ...       ...   \n",
            "99112   2013     12   18     928.0             930       -2.0    1543.0   \n",
            "223207  2013      6    2     956.0            1000       -4.0    1442.0   \n",
            "151311  2013      3   17    1006.0            1000        6.0    1607.0   \n",
            "218562  2013      5   28     953.0            1000       -7.0    1447.0   \n",
            "289650  2013      8   11     950.0            1000      -10.0    1438.0   \n",
            "\n",
            "        sched_arr_time  arr_delay carrier  flight tailnum origin dest  \\\n",
            "275945             245        NaN      US    1632     NaN    EWR  LGA   \n",
            "3083              1306       27.0      EV    4193  N14972    EWR  PHL   \n",
            "16328             1722        0.0      EV    4616  N12540    EWR  PHL   \n",
            "112178            2224       -8.0      EV    4619  N13969    EWR  PHL   \n",
            "19983             2224       -3.0      EV    4619  N12135    EWR  PHL   \n",
            "...                ...        ...     ...     ...     ...    ...  ...   \n",
            "99112             1535        8.0      HA      51  N395HA    JFK  HNL   \n",
            "223207            1435        7.0      HA      51  N383HA    JFK  HNL   \n",
            "151311            1530       37.0      HA      51  N380HA    JFK  HNL   \n",
            "218562            1500      -13.0      HA      51  N385HA    JFK  HNL   \n",
            "289650            1440       -2.0      HA      51  N391HA    JFK  HNL   \n",
            "\n",
            "        air_time  distance  hour  minute             time_hour  \n",
            "275945       NaN        17     1       6  2013-07-27T05:00:00Z  \n",
            "3083        30.0        80    12       0  2013-01-04T17:00:00Z  \n",
            "16328       34.0        80    16      17  2013-01-19T21:00:00Z  \n",
            "112178      24.0        80    21      29  2013-02-02T02:00:00Z  \n",
            "19983       23.0        80    21      29  2013-01-24T02:00:00Z  \n",
            "...          ...       ...   ...     ...                   ...  \n",
            "99112      641.0      4983     9      30  2013-12-18T14:00:00Z  \n",
            "223207     617.0      4983    10       0  2013-06-02T14:00:00Z  \n",
            "151311     686.0      4983    10       0  2013-03-17T14:00:00Z  \n",
            "218562     631.0      4983    10       0  2013-05-28T14:00:00Z  \n",
            "289650     628.0      4983    10       0  2013-08-11T14:00:00Z  \n",
            "\n",
            "[336776 rows x 19 columns]\n"
          ]
        }
      ]
    },
    {
      "cell_type": "markdown",
      "source": [
        "# **5.4**"
      ],
      "metadata": {
        "id": "UbEGtWzK4gBt"
      }
    },
    {
      "cell_type": "code",
      "source": [
        "#Brainstorm as many ways as possible to select dep_time, dep_delay, arr_time, and arr_delay from flights.\n",
        "a1 = flights.filter(['dep_time', 'dep_delay', 'arr_time', 'arr_delay'])\n",
        "a2 = flights.loc[:, ['dep_time', 'dep_delay', 'arr_time', 'arr_delay']]\n",
        "a = a1.rename(columns = {'dep_time': 'tiempo_salida', 'dep_delay':'retraso_salida', 'arr_time': 'tiempo_llegada', 'arr_delay':'retraso_llegada'})\n",
        "print(a)"
      ],
      "metadata": {
        "colab": {
          "base_uri": "https://localhost:8080/"
        },
        "id": "nkKJOzz14iI3",
        "outputId": "e7739e1b-088e-4b8d-eb7f-2768f38821bf"
      },
      "execution_count": 25,
      "outputs": [
        {
          "output_type": "stream",
          "name": "stdout",
          "text": [
            "        tiempo_salida  retraso_salida  tiempo_llegada  retraso_llegada\n",
            "0               517.0             2.0           830.0             11.0\n",
            "1               533.0             4.0           850.0             20.0\n",
            "2               542.0             2.0           923.0             33.0\n",
            "3               544.0            -1.0          1004.0            -18.0\n",
            "4               554.0            -6.0           812.0            -25.0\n",
            "...               ...             ...             ...              ...\n",
            "336771            NaN             NaN             NaN              NaN\n",
            "336772            NaN             NaN             NaN              NaN\n",
            "336773            NaN             NaN             NaN              NaN\n",
            "336774            NaN             NaN             NaN              NaN\n",
            "336775            NaN             NaN             NaN              NaN\n",
            "\n",
            "[336776 rows x 4 columns]\n"
          ]
        }
      ]
    },
    {
      "cell_type": "code",
      "source": [
        "print(a1)"
      ],
      "metadata": {
        "colab": {
          "base_uri": "https://localhost:8080/"
        },
        "id": "cK3PvuedawRe",
        "outputId": "6b25a939-17f6-464f-d890-fb89a00ecab4"
      },
      "execution_count": 26,
      "outputs": [
        {
          "output_type": "stream",
          "name": "stdout",
          "text": [
            "        dep_time  dep_delay  arr_time  arr_delay\n",
            "0          517.0        2.0     830.0       11.0\n",
            "1          533.0        4.0     850.0       20.0\n",
            "2          542.0        2.0     923.0       33.0\n",
            "3          544.0       -1.0    1004.0      -18.0\n",
            "4          554.0       -6.0     812.0      -25.0\n",
            "...          ...        ...       ...        ...\n",
            "336771       NaN        NaN       NaN        NaN\n",
            "336772       NaN        NaN       NaN        NaN\n",
            "336773       NaN        NaN       NaN        NaN\n",
            "336774       NaN        NaN       NaN        NaN\n",
            "336775       NaN        NaN       NaN        NaN\n",
            "\n",
            "[336776 rows x 4 columns]\n"
          ]
        }
      ]
    },
    {
      "cell_type": "code",
      "source": [
        "print(a2)"
      ],
      "metadata": {
        "colab": {
          "base_uri": "https://localhost:8080/"
        },
        "id": "Bq7F2dctawdD",
        "outputId": "b09c4f36-9d3b-49ab-df0e-0400329bc626"
      },
      "execution_count": 27,
      "outputs": [
        {
          "output_type": "stream",
          "name": "stdout",
          "text": [
            "        dep_time  dep_delay  arr_time  arr_delay\n",
            "0          517.0        2.0     830.0       11.0\n",
            "1          533.0        4.0     850.0       20.0\n",
            "2          542.0        2.0     923.0       33.0\n",
            "3          544.0       -1.0    1004.0      -18.0\n",
            "4          554.0       -6.0     812.0      -25.0\n",
            "...          ...        ...       ...        ...\n",
            "336771       NaN        NaN       NaN        NaN\n",
            "336772       NaN        NaN       NaN        NaN\n",
            "336773       NaN        NaN       NaN        NaN\n",
            "336774       NaN        NaN       NaN        NaN\n",
            "336775       NaN        NaN       NaN        NaN\n",
            "\n",
            "[336776 rows x 4 columns]\n"
          ]
        }
      ]
    },
    {
      "cell_type": "code",
      "source": [
        "# What happens if you include the name of a variable multiple times in a filter() call?\n",
        "repeat = flights.filter(['dep_time', 'dep_delay', 'arr_time', 'arr_delay', 'arr_time', 'dep_delay'])\n",
        "print(repeat)"
      ],
      "metadata": {
        "colab": {
          "base_uri": "https://localhost:8080/"
        },
        "id": "xdQYlxSUbhQl",
        "outputId": "9dbef0ad-b145-4e13-f1e9-627f3ecd998a"
      },
      "execution_count": 32,
      "outputs": [
        {
          "output_type": "stream",
          "name": "stdout",
          "text": [
            "        dep_time  dep_delay  arr_time  arr_delay  arr_time  dep_delay\n",
            "0          517.0        2.0     830.0       11.0     830.0        2.0\n",
            "1          533.0        4.0     850.0       20.0     850.0        4.0\n",
            "2          542.0        2.0     923.0       33.0     923.0        2.0\n",
            "3          544.0       -1.0    1004.0      -18.0    1004.0       -1.0\n",
            "4          554.0       -6.0     812.0      -25.0     812.0       -6.0\n",
            "...          ...        ...       ...        ...       ...        ...\n",
            "336771       NaN        NaN       NaN        NaN       NaN        NaN\n",
            "336772       NaN        NaN       NaN        NaN       NaN        NaN\n",
            "336773       NaN        NaN       NaN        NaN       NaN        NaN\n",
            "336774       NaN        NaN       NaN        NaN       NaN        NaN\n",
            "336775       NaN        NaN       NaN        NaN       NaN        NaN\n",
            "\n",
            "[336776 rows x 6 columns]\n"
          ]
        }
      ]
    },
    {
      "cell_type": "code",
      "source": [
        "# What does the any_of() function do? Why might it be helpful in conjunction with this vector?\n",
        "# vars <- c(\"year\", \"month\", \"day\", \"dep_delay\", \"arr_delay\")"
      ],
      "metadata": {
        "id": "ClPDQanLcsJq"
      },
      "execution_count": null,
      "outputs": []
    },
    {
      "cell_type": "code",
      "source": [
        "vars = [\"year\", \"month\", \"day\", \"dep_delay\", \"arr_delay\"]\n",
        "data = flights[vars] #Crea un nuevo dataframe solo con las columnas especificadas en vars\n",
        "print(data)"
      ],
      "metadata": {
        "colab": {
          "base_uri": "https://localhost:8080/"
        },
        "id": "Ep4ULpd0cu_p",
        "outputId": "c9e6ac00-3de9-4446-a980-3126e9d0ab55"
      },
      "execution_count": 29,
      "outputs": [
        {
          "output_type": "stream",
          "name": "stdout",
          "text": [
            "        year  month  day  dep_delay  arr_delay\n",
            "0       2013      1    1        2.0       11.0\n",
            "1       2013      1    1        4.0       20.0\n",
            "2       2013      1    1        2.0       33.0\n",
            "3       2013      1    1       -1.0      -18.0\n",
            "4       2013      1    1       -6.0      -25.0\n",
            "...      ...    ...  ...        ...        ...\n",
            "336771  2013      9   30        NaN        NaN\n",
            "336772  2013      9   30        NaN        NaN\n",
            "336773  2013      9   30        NaN        NaN\n",
            "336774  2013      9   30        NaN        NaN\n",
            "336775  2013      9   30        NaN        NaN\n",
            "\n",
            "[336776 rows x 5 columns]\n"
          ]
        }
      ]
    },
    {
      "cell_type": "code",
      "source": [
        "# Does the result of running the following code surprise you? How do the select helpers deal with case by default? How can you change that default?\n",
        "# flights.filter(regex = \"TIME\")\n",
        "resultado = flights.filter(like=\"time\") # Si hay una distincion entre mayusculas y minusculas\n",
        "print(resultado)"
      ],
      "metadata": {
        "colab": {
          "base_uri": "https://localhost:8080/"
        },
        "id": "7IS_fjFhcT-q",
        "outputId": "a00c4c1a-c87c-4b11-8149-d57b415a66a4"
      },
      "execution_count": 34,
      "outputs": [
        {
          "output_type": "stream",
          "name": "stdout",
          "text": [
            "        dep_time  sched_dep_time  arr_time  sched_arr_time  air_time  \\\n",
            "0          517.0             515     830.0             819     227.0   \n",
            "1          533.0             529     850.0             830     227.0   \n",
            "2          542.0             540     923.0             850     160.0   \n",
            "3          544.0             545    1004.0            1022     183.0   \n",
            "4          554.0             600     812.0             837     116.0   \n",
            "...          ...             ...       ...             ...       ...   \n",
            "336771       NaN            1455       NaN            1634       NaN   \n",
            "336772       NaN            2200       NaN            2312       NaN   \n",
            "336773       NaN            1210       NaN            1330       NaN   \n",
            "336774       NaN            1159       NaN            1344       NaN   \n",
            "336775       NaN             840       NaN            1020       NaN   \n",
            "\n",
            "                   time_hour  \n",
            "0       2013-01-01T10:00:00Z  \n",
            "1       2013-01-01T10:00:00Z  \n",
            "2       2013-01-01T10:00:00Z  \n",
            "3       2013-01-01T10:00:00Z  \n",
            "4       2013-01-01T11:00:00Z  \n",
            "...                      ...  \n",
            "336771  2013-09-30T18:00:00Z  \n",
            "336772  2013-10-01T02:00:00Z  \n",
            "336773  2013-09-30T16:00:00Z  \n",
            "336774  2013-09-30T15:00:00Z  \n",
            "336775  2013-09-30T12:00:00Z  \n",
            "\n",
            "[336776 rows x 6 columns]\n"
          ]
        }
      ]
    },
    {
      "cell_type": "code",
      "source": [
        "#Primero hay que convertir a minusculas los titulos de cada columna y crea una variable con ellos\n",
        "columnas = [col for col in flights.columns if 'TIME' in col.upper()]\n",
        "#Busca esos nombres de columnas (en minusculas) en el dataframe\n",
        "resultado2 = flights[columnas]\n",
        "print(resultado2)"
      ],
      "metadata": {
        "colab": {
          "base_uri": "https://localhost:8080/"
        },
        "id": "aeMjh3pWfLfd",
        "outputId": "0edf7771-59c0-4b1e-d0d5-d269f9849985"
      },
      "execution_count": 35,
      "outputs": [
        {
          "output_type": "stream",
          "name": "stdout",
          "text": [
            "        dep_time  sched_dep_time  arr_time  sched_arr_time  air_time  \\\n",
            "0          517.0             515     830.0             819     227.0   \n",
            "1          533.0             529     850.0             830     227.0   \n",
            "2          542.0             540     923.0             850     160.0   \n",
            "3          544.0             545    1004.0            1022     183.0   \n",
            "4          554.0             600     812.0             837     116.0   \n",
            "...          ...             ...       ...             ...       ...   \n",
            "336771       NaN            1455       NaN            1634       NaN   \n",
            "336772       NaN            2200       NaN            2312       NaN   \n",
            "336773       NaN            1210       NaN            1330       NaN   \n",
            "336774       NaN            1159       NaN            1344       NaN   \n",
            "336775       NaN             840       NaN            1020       NaN   \n",
            "\n",
            "                   time_hour  \n",
            "0       2013-01-01T10:00:00Z  \n",
            "1       2013-01-01T10:00:00Z  \n",
            "2       2013-01-01T10:00:00Z  \n",
            "3       2013-01-01T10:00:00Z  \n",
            "4       2013-01-01T11:00:00Z  \n",
            "...                      ...  \n",
            "336771  2013-09-30T18:00:00Z  \n",
            "336772  2013-10-01T02:00:00Z  \n",
            "336773  2013-09-30T16:00:00Z  \n",
            "336774  2013-09-30T15:00:00Z  \n",
            "336775  2013-09-30T12:00:00Z  \n",
            "\n",
            "[336776 rows x 6 columns]\n"
          ]
        }
      ]
    },
    {
      "cell_type": "markdown",
      "source": [
        "# **5.5**"
      ],
      "metadata": {
        "id": "zn4QBInmgb64"
      }
    },
    {
      "cell_type": "code",
      "source": [
        "# Currently dep_time and sched_dep_time are convenient to look at, but hard to compute with because they’re not really continuous numbers.\n",
        "# Convert them to a more convenient representation of number of minutes since midnight.\n",
        "flights['dep_time_mins'] = (flights['dep_time'] // 100 * 60 + flights['dep_time'] % 100) % 1440\n",
        "flights['sched_dep_time_mins'] = (flights['sched_dep_time'] // 100 * 60 + flights['sched_dep_time'] % 100) % 1440\n",
        "nuevo = flights.filter(['flights_times', 'dep_time', 'dep_time_mins', 'sched_dep_time', 'sched_dep_time_mins'])\n",
        "print(nuevo)"
      ],
      "metadata": {
        "colab": {
          "base_uri": "https://localhost:8080/"
        },
        "id": "2co5VmPygdnF",
        "outputId": "33cd5954-39e3-4025-f01a-41e94b0062b3"
      },
      "execution_count": 36,
      "outputs": [
        {
          "output_type": "stream",
          "name": "stdout",
          "text": [
            "        dep_time  dep_time_mins  sched_dep_time  sched_dep_time_mins\n",
            "0          517.0          317.0             515                  315\n",
            "1          533.0          333.0             529                  329\n",
            "2          542.0          342.0             540                  340\n",
            "3          544.0          344.0             545                  345\n",
            "4          554.0          354.0             600                  360\n",
            "...          ...            ...             ...                  ...\n",
            "336771       NaN            NaN            1455                  895\n",
            "336772       NaN            NaN            2200                 1320\n",
            "336773       NaN            NaN            1210                  730\n",
            "336774       NaN            NaN            1159                  719\n",
            "336775       NaN            NaN             840                  520\n",
            "\n",
            "[336776 rows x 4 columns]\n"
          ]
        }
      ]
    },
    {
      "cell_type": "code",
      "source": [
        "#Compare air_time with arr_time - dep_time. What do you expect to see? What do you see? What do you need to do to fix it?\n"
      ],
      "metadata": {
        "id": "5lUFfqA2hFw6"
      },
      "execution_count": null,
      "outputs": []
    }
  ]
}